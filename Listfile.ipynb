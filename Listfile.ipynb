{
 "cells": [
  {
   "cell_type": "code",
   "execution_count": 1,
   "metadata": {},
   "outputs": [
    {
     "name": "stderr",
     "output_type": "stream",
     "text": [
      "Using TensorFlow backend.\n"
     ]
    },
    {
     "name": "stdout",
     "output_type": "stream",
     "text": [
      "WARNING:tensorflow:From C:\\ProgramData\\Anaconda3\\envs\\tf\\lib\\site-packages\\keras\\backend\\tensorflow_backend.py:74: The name tf.get_default_graph is deprecated. Please use tf.compat.v1.get_default_graph instead.\n",
      "\n",
      "WARNING:tensorflow:From C:\\ProgramData\\Anaconda3\\envs\\tf\\lib\\site-packages\\keras\\backend\\tensorflow_backend.py:517: The name tf.placeholder is deprecated. Please use tf.compat.v1.placeholder instead.\n",
      "\n",
      "WARNING:tensorflow:From C:\\ProgramData\\Anaconda3\\envs\\tf\\lib\\site-packages\\keras\\backend\\tensorflow_backend.py:4138: The name tf.random_uniform is deprecated. Please use tf.random.uniform instead.\n",
      "\n",
      "WARNING:tensorflow:From C:\\ProgramData\\Anaconda3\\envs\\tf\\lib\\site-packages\\keras\\backend\\tensorflow_backend.py:3976: The name tf.nn.max_pool is deprecated. Please use tf.nn.max_pool2d instead.\n",
      "\n",
      "WARNING:tensorflow:From C:\\ProgramData\\Anaconda3\\envs\\tf\\lib\\site-packages\\keras\\optimizers.py:790: The name tf.train.Optimizer is deprecated. Please use tf.compat.v1.train.Optimizer instead.\n",
      "\n",
      "WARNING:tensorflow:From C:\\ProgramData\\Anaconda3\\envs\\tf\\lib\\site-packages\\keras\\backend\\tensorflow_backend.py:3376: The name tf.log is deprecated. Please use tf.math.log instead.\n",
      "\n",
      "WARNING:tensorflow:From C:\\ProgramData\\Anaconda3\\envs\\tf\\lib\\site-packages\\tensorflow\\python\\ops\\nn_impl.py:180: add_dispatch_support.<locals>.wrapper (from tensorflow.python.ops.array_ops) is deprecated and will be removed in a future version.\n",
      "Instructions for updating:\n",
      "Use tf.where in 2.0, which has the same broadcast rule as np.where\n"
     ]
    },
    {
     "name": "stderr",
     "output_type": "stream",
     "text": [
      "C:\\ProgramData\\Anaconda3\\envs\\tf\\lib\\site-packages\\ipykernel_launcher.py:13: UserWarning: Update your `Conv2D` call to the Keras 2 API: `Conv2D(32, (3, 3), input_shape=(64, 64, 3..., activation=\"relu\")`\n",
      "  del sys.path[0]\n",
      "C:\\ProgramData\\Anaconda3\\envs\\tf\\lib\\site-packages\\ipykernel_launcher.py:19: UserWarning: Update your `Conv2D` call to the Keras 2 API: `Conv2D(32, (3, 3), activation=\"relu\")`\n",
      "C:\\ProgramData\\Anaconda3\\envs\\tf\\lib\\site-packages\\ipykernel_launcher.py:26: UserWarning: Update your `Dense` call to the Keras 2 API: `Dense(activation=\"relu\", units=128)`\n",
      "C:\\ProgramData\\Anaconda3\\envs\\tf\\lib\\site-packages\\ipykernel_launcher.py:27: UserWarning: Update your `Dense` call to the Keras 2 API: `Dense(activation=\"sigmoid\", units=1)`\n"
     ]
    }
   ],
   "source": [
    "import os\n",
    "import cv2 as cv\n",
    "from keras.models import Sequential\n",
    "from keras.layers import Convolution2D\n",
    "from keras.layers import MaxPooling2D\n",
    "from keras.layers import Flatten\n",
    "from keras.layers import Dense\n",
    "from keras.models import load_model\n",
    "\n",
    "classifier = Sequential()\n",
    "\n",
    "# Step 1 - Convolution\n",
    "classifier.add(Convolution2D(32, 3, 3, input_shape = (64, 64, 3), activation = 'relu'))\n",
    "\n",
    "# Step 2 - Pooling\n",
    "classifier.add(MaxPooling2D(pool_size = (2, 2)))\n",
    "\n",
    "# Adding a second convolutional layer\n",
    "classifier.add(Convolution2D(32, 3, 3, activation = 'relu'))\n",
    "classifier.add(MaxPooling2D(pool_size = (2, 2)))\n",
    "\n",
    "# Step 3 - Flattening\n",
    "classifier.add(Flatten())\n",
    "\n",
    "# Step 4 - Full connection\n",
    "classifier.add(Dense(output_dim = 128, activation = 'relu'))\n",
    "classifier.add(Dense(output_dim = 1, activation = 'sigmoid'))\n",
    "\n",
    "# Compiling the CNN\n",
    "classifier.compile(optimizer = 'adam', loss = 'binary_crossentropy', metrics = ['accuracy'])\n"
   ]
  },
  {
   "cell_type": "code",
   "execution_count": 2,
   "metadata": {},
   "outputs": [
    {
     "name": "stdout",
     "output_type": "stream",
     "text": [
      "WARNING:tensorflow:From C:\\ProgramData\\Anaconda3\\envs\\tf\\lib\\site-packages\\keras\\backend\\tensorflow_backend.py:174: The name tf.get_default_session is deprecated. Please use tf.compat.v1.get_default_session instead.\n",
      "\n",
      "path image : dataset/test_set/goods/\n"
     ]
    }
   ],
   "source": [
    "# Part 2 - Loading model weight\n",
    "classifier.load_weights('EBS.h5')\n",
    "\n",
    "import numpy as np\n",
    "import time\n",
    "from keras.preprocessing import image as image_utils\n",
    "import matplotlib as plt\n",
    "\n",
    "strpath = \"dataset/test_set/goods/\"\n",
    "#\"C:\\Users\\Administrator\\Desktop\\PyTest\\Allimg\"\n",
    "\n",
    "print(\"path image : \"+strpath)"
   ]
  },
  {
   "cell_type": "code",
   "execution_count": 4,
   "metadata": {},
   "outputs": [
    {
     "name": "stdout",
     "output_type": "stream",
     "text": [
      "['dataset/test_set/goods/P3-142.jpg', 'dataset/test_set/goods/P3-143.jpg', 'dataset/test_set/goods/P3-144.jpg', 'dataset/test_set/goods/P3-145.jpg', 'dataset/test_set/goods/P3-146.jpg', 'dataset/test_set/goods/P3-147.jpg', 'dataset/test_set/goods/P3-148.jpg', 'dataset/test_set/goods/P3-149.jpg', 'dataset/test_set/goods/P3-150.jpg', 'dataset/test_set/goods/P3-151.jpg', 'dataset/test_set/goods/P3-152.jpg', 'dataset/test_set/goods/P3-153.jpg', 'dataset/test_set/goods/P3-154.jpg', 'dataset/test_set/goods/P3-155.jpg', 'dataset/test_set/goods/P3-156.jpg', 'dataset/test_set/goods/P3-157.jpg', 'dataset/test_set/goods/P3-158.jpg', 'dataset/test_set/goods/P3-159.jpg', 'dataset/test_set/goods/P3-160.jpg', 'dataset/test_set/goods/P3-161.jpg', 'dataset/test_set/goods/P3-162.jpg', 'dataset/test_set/goods/P3-163.jpg', 'dataset/test_set/goods/P3-164.jpg', 'dataset/test_set/goods/P3-165.jpg', 'dataset/test_set/goods/P3-166.jpg', 'dataset/test_set/goods/P3-167.jpg', 'dataset/test_set/goods/P3-168.jpg', 'dataset/test_set/goods/P3-169.jpg', 'dataset/test_set/goods/P3-170.jpg', 'dataset/test_set/goods/P3-171.jpg', 'dataset/test_set/goods/P3-172.jpg', 'dataset/test_set/goods/P3-173.jpg', 'dataset/test_set/goods/P3-174.jpg', 'dataset/test_set/goods/P3-175.jpg', 'dataset/test_set/goods/P3-176.jpg', 'dataset/test_set/goods/P3-177.jpg', 'dataset/test_set/goods/P3-178.jpg', 'dataset/test_set/goods/P3-179.jpg', 'dataset/test_set/goods/P3-180.jpg', 'dataset/test_set/goods/P3-181.jpg', 'dataset/test_set/goods/P3-182.jpg', 'dataset/test_set/goods/P3-183.jpg', 'dataset/test_set/goods/P3-184.jpg', 'dataset/test_set/goods/P3-185.jpg', 'dataset/test_set/goods/P3-186.jpg', 'dataset/test_set/goods/P3-187.jpg', 'dataset/test_set/goods/P3-188.jpg', 'dataset/test_set/goods/P3-189.jpg', 'dataset/test_set/goods/P3-190.jpg', 'dataset/test_set/goods/P3-191.jpg', 'dataset/test_set/goods/P3-192.jpg', 'dataset/test_set/goods/P3-193.jpg', 'dataset/test_set/goods/P3-194.jpg', 'dataset/test_set/goods/P3-195.jpg', 'dataset/test_set/goods/P3-196.jpg', 'dataset/test_set/goods/P3-197.jpg', 'dataset/test_set/goods/P3-198.jpg', 'dataset/test_set/goods/P3-199.jpg', 'dataset/test_set/goods/P3-200.jpg', 'dataset/test_set/goods/P3-201.jpg', 'dataset/test_set/goods/P3-202.jpg', 'dataset/test_set/goods/P3-203.jpg', 'dataset/test_set/goods/P3-204.jpg', 'dataset/test_set/goods/P3-205.jpg', 'dataset/test_set/goods/P3-206.jpg', 'dataset/test_set/goods/P3-207.jpg', 'dataset/test_set/goods/P3-208.jpg', 'dataset/test_set/goods/P3-209.jpg', 'dataset/test_set/goods/P3-210.jpg', 'dataset/test_set/goods/P3-211.jpg', 'dataset/test_set/goods/P3-212.jpg', 'dataset/test_set/goods/P3-213.jpg', 'dataset/test_set/goods/P3-214.jpg', 'dataset/test_set/goods/P3-215.jpg', 'dataset/test_set/goods/P3-216.jpg', 'dataset/test_set/goods/P3-217.jpg', 'dataset/test_set/goods/P3-218.jpg', 'dataset/test_set/goods/P3-219.jpg', 'dataset/test_set/goods/P3-220.jpg', 'dataset/test_set/goods/P3-221.jpg', 'dataset/test_set/goods/P3-222.jpg', 'dataset/test_set/goods/P3-223.jpg', 'dataset/test_set/goods/P3-224.jpg', 'dataset/test_set/goods/P3-225.jpg', 'dataset/test_set/goods/P3-226.jpg', 'dataset/test_set/goods/P3-227.jpg', 'dataset/test_set/goods/P3-228.jpg', 'dataset/test_set/goods/P3-229.jpg', 'dataset/test_set/goods/P3-230.jpg', 'dataset/test_set/goods/P3-231.jpg', 'dataset/test_set/goods/P3-232.jpg', 'dataset/test_set/goods/P3-233.jpg', 'dataset/test_set/goods/P3-234.jpg']\n"
     ]
    }
   ],
   "source": [
    "list_imgfile = []\n",
    "\n",
    "for root, directory, file in os.walk(strpath):\n",
    "          for file_selected in file:\n",
    "                    if '.jpg' in file_selected:\n",
    "                              list_imgfile.append(root+file_selected)\n",
    "print(list_imgfile)"
   ]
  },
  {
   "cell_type": "code",
   "execution_count": 6,
   "metadata": {},
   "outputs": [
    {
     "name": "stdout",
     "output_type": "stream",
     "text": [
      "Process :  1   GOOD   15.0 mS\n",
      "Process :  2   GOOD   3.0 mS\n",
      "Process :  3   GOOD   4.0 mS\n",
      "Process :  4   GOOD   3.0 mS\n",
      "Process :  5   GOOD   2.9 mS\n",
      "Process :  6   GOOD   2.9 mS\n",
      "Process :  7   GOOD   3.0 mS\n",
      "Process :  8   GOOD   2.9 mS\n",
      "Process :  9   GOOD   2.9 mS\n",
      "Process :  10   GOOD   2.9 mS\n",
      "Process :  11   GOOD   3.0 mS\n",
      "Process :  12   GOOD   2.9 mS\n",
      "Process :  13   GOOD   2.9 mS\n",
      "Process :  14   GOOD   3.0 mS\n",
      "Process :  15   GOOD   3.0 mS\n",
      "Process :  16   GOOD   3.0 mS\n",
      "Process :  17   GOOD   2.9 mS\n",
      "Process :  18   GOOD   2.9 mS\n",
      "Process :  19   GOOD   2.9 mS\n",
      "Process :  20   GOOD   2.9 mS\n",
      "Process :  21   GOOD   3.0 mS\n",
      "Process :  22   GOOD   2.9 mS\n",
      "Process :  23   GOOD   3.0 mS\n",
      "Process :  24   GOOD   2.9 mS\n",
      "Process :  25   GOOD   2.9 mS\n",
      "Process :  26   GOOD   2.9 mS\n",
      "Process :  27   GOOD   2.9 mS\n",
      "Process :  28   GOOD   2.9 mS\n",
      "Process :  29   GOOD   2.9 mS\n",
      "Process :  30   GOOD   2.9 mS\n",
      "Process :  31   GOOD   3.0 mS\n",
      "Process :  32   GOOD   2.9 mS\n",
      "Process :  33   GOOD   2.9 mS\n",
      "Process :  34   GOOD   2.9 mS\n",
      "Process :  35   GOOD   2.9 mS\n",
      "Process :  36   GOOD   2.9 mS\n",
      "Process :  37   GOOD   3.0 mS\n",
      "Process :  38   GOOD   3.0 mS\n",
      "Process :  39   GOOD   3.0 mS\n",
      "Process :  40   GOOD   3.0 mS\n",
      "Process :  41   GOOD   3.0 mS\n",
      "Process :  42   GOOD   2.9 mS\n",
      "Process :  43   GOOD   2.9 mS\n",
      "Process :  44   GOOD   2.9 mS\n",
      "Process :  45   GOOD   2.9 mS\n",
      "Process :  46   GOOD   2.9 mS\n",
      "Process :  47   GOOD   3.0 mS\n",
      "Process :  48   GOOD   2.9 mS\n",
      "Process :  49   GOOD   2.9 mS\n",
      "Process :  50   GOOD   2.9 mS\n",
      "Process :  51   GOOD   2.9 mS\n",
      "Process :  52   GOOD   2.9 mS\n",
      "Process :  53   GOOD   2.9 mS\n",
      "Process :  54   GOOD   3.0 mS\n",
      "Process :  55   GOOD   2.9 mS\n",
      "Process :  56   GOOD   2.9 mS\n",
      "Process :  57   GOOD   3.0 mS\n",
      "Process :  58   GOOD   2.9 mS\n",
      "Process :  59   GOOD   3.0 mS\n",
      "Process :  60   GOOD   2.9 mS\n",
      "Process :  61   GOOD   2.9 mS\n",
      "Process :  62   GOOD   3.0 mS\n",
      "Process :  63   GOOD   2.9 mS\n",
      "Process :  64   GOOD   2.9 mS\n",
      "Process :  65   GOOD   2.9 mS\n",
      "Process :  66   GOOD   3.0 mS\n",
      "Process :  67   GOOD   2.9 mS\n",
      "Process :  68   GOOD   3.0 mS\n",
      "Process :  69   GOOD   2.9 mS\n",
      "Process :  70   GOOD   2.9 mS\n",
      "Process :  71   GOOD   3.0 mS\n",
      "Process :  72   GOOD   2.9 mS\n",
      "Process :  73   GOOD   3.0 mS\n",
      "Process :  74   GOOD   3.0 mS\n",
      "Process :  75   GOOD   3.0 mS\n",
      "Process :  76   GOOD   2.9 mS\n",
      "Process :  77   GOOD   4.0 mS\n",
      "Process :  78   GOOD   3.0 mS\n",
      "Process :  79   GOOD   2.9 mS\n",
      "Process :  80   GOOD   3.0 mS\n",
      "Process :  81   GOOD   2.9 mS\n",
      "Process :  82   GOOD   2.9 mS\n",
      "Process :  83   GOOD   3.0 mS\n",
      "Process :  84   GOOD   3.0 mS\n",
      "Process :  85   GOOD   3.0 mS\n",
      "Process :  86   GOOD   3.0 mS\n",
      "Process :  87   GOOD   3.0 mS\n",
      "Process :  88   GOOD   2.9 mS\n",
      "Process :  89   GOOD   3.0 mS\n",
      "Process :  90   GOOD   3.0 mS\n",
      "Process :  91   GOOD   2.9 mS\n",
      "Process :  92   GOOD   2.9 mS\n",
      "Process :  93   GOOD   2.9 mS\n",
      "Qty Good :  93 ea. 100.0 %\n",
      "Qty Rej  :  0 ea. 0.0 %\n",
      "Qty TTL  :  93\n"
     ]
    }
   ],
   "source": [
    "cv.namedWindow('imageRun',cv.WINDOW_FREERATIO)\n",
    "img = cv.imread(list_imgfile[0],1)\n",
    "cv.imshow('imageRun',img)\n",
    "i = 0\n",
    "qty_good = 0\n",
    "qty_reject = 0\n",
    "for f in list_imgfile:\n",
    "          i=i+1\n",
    "          start = time.time()\n",
    "          img = cv.imread(f,1)\n",
    "          test_image = image_utils.load_img(f, target_size = (64, 64))\n",
    "          test_image = image_utils.img_to_array(test_image)\n",
    "          test_image = np.expand_dims(test_image, axis = 0)\n",
    "          result = classifier.predict_on_batch(test_image)\n",
    "          prediction = 'REJECT'\n",
    "          if result[0][0] == 1:\n",
    "                    prediction = 'REJECT'\n",
    "                    qty_reject = qty_reject + 1\n",
    "          else:\n",
    "                    prediction = 'GOOD'\n",
    "                    qty_good = qty_good + 1 \n",
    "          img = cv.putText(img,prediction,(10,20),cv.FONT_HERSHEY_SIMPLEX,0.5,(25,255,0),1)\n",
    "          cv.imshow('imageRun',img)\n",
    "          end = time.time()\n",
    "          print(\"Process : \",str(i),\" \",prediction,\" \",round(1000*(end-start),1),\"mS\")\n",
    "          \n",
    "          cv.waitKey(1)\n",
    "          del(img)\n",
    "          #sleep(1)\n",
    "          #print(f)\n",
    "cv.waitKey(100)\n",
    "cv.destroyAllWindows()\n",
    "print (\"Qty Good : \", qty_good, \"ea.\", round((qty_good/(qty_good+qty_reject))*100,2),\"%\")\n",
    "print (\"Qty Rej  : \", qty_reject, \"ea.\", round((qty_reject/(qty_good+qty_reject))*100,2),\"%\") \n",
    "print ('Qty TTL  : ', qty_good+qty_reject)"
   ]
  },
  {
   "cell_type": "code",
   "execution_count": null,
   "metadata": {},
   "outputs": [],
   "source": []
  }
 ],
 "metadata": {
  "kernelspec": {
   "display_name": "TensorFlow-GPU",
   "language": "python",
   "name": "tf"
  },
  "language_info": {
   "codemirror_mode": {
    "name": "ipython",
    "version": 3
   },
   "file_extension": ".py",
   "mimetype": "text/x-python",
   "name": "python",
   "nbconvert_exporter": "python",
   "pygments_lexer": "ipython3",
   "version": "3.7.4"
  }
 },
 "nbformat": 4,
 "nbformat_minor": 2
}
